{
 "cells": [
  {
   "cell_type": "markdown",
   "metadata": {},
   "source": [
    "# silico general demo"
   ]
  },
  {
   "cell_type": "markdown",
   "metadata": {},
   "source": [
    "## Introduction"
   ]
  },
  {
   "cell_type": "code",
   "execution_count": 1,
   "metadata": {},
   "outputs": [],
   "source": [
    "import pandas as pd\n",
    "import numpy as np\n",
    "from numpy import random"
   ]
  },
  {
   "cell_type": "code",
   "execution_count": 2,
   "metadata": {},
   "outputs": [],
   "source": [
    "import silico"
   ]
  },
  {
   "cell_type": "markdown",
   "metadata": {},
   "source": [
    "Define a function that takes some parameters and returns a dict of information about the results:"
   ]
  },
  {
   "cell_type": "code",
   "execution_count": 3,
   "metadata": {},
   "outputs": [],
   "source": [
    "def experiment_f(mean, sigma, seed):\n",
    "    # All seeds should be initialized using a parameter for reproducibility\n",
    "    random.seed(seed)\n",
    "    # Return a dict with the results (must be pickleable)\n",
    "    return {\"value\": random.normal(mean, sigma)}"
   ]
  },
  {
   "cell_type": "markdown",
   "metadata": {},
   "source": [
    "Define the values for each of the parameters:"
   ]
  },
  {
   "cell_type": "code",
   "execution_count": 4,
   "metadata": {},
   "outputs": [],
   "source": [
    "experiment = silico.Experiment(\n",
    "    [\n",
    "        (\"mean\", [1, 2, 4]),\n",
    "        (\"sigma\", [1, 2, 3]),\n",
    "        (\"seed\", list(range(20))),\n",
    "    ],\n",
    "    experiment_f,  # Function\n",
    "    \"experiment-demo\",  # Folder where the results are stored\n",
    ")"
   ]
  },
  {
   "cell_type": "code",
   "execution_count": 5,
   "metadata": {},
   "outputs": [],
   "source": [
    "# If the definition of the experiment has changed, previous results can be deleted by running:\n",
    "experiment.invalidate()"
   ]
  },
  {
   "cell_type": "code",
   "execution_count": 6,
   "metadata": {},
   "outputs": [
    {
     "data": {
      "application/json": {
       "ascii": false,
       "bar_format": null,
       "colour": null,
       "elapsed": 0.017731428146362305,
       "initial": 0,
       "n": 0,
       "ncols": null,
       "nrows": 67,
       "postfix": null,
       "prefix": "",
       "rate": null,
       "total": 180,
       "unit": "it",
       "unit_divisor": 1000,
       "unit_scale": false
      },
      "application/vnd.jupyter.widget-view+json": {
       "model_id": "3d03d1d9fb344ea7a84a99cf559ac071",
       "version_major": 2,
       "version_minor": 0
      },
      "text/plain": [
       "  0%|          | 0/180 [00:00<?, ?it/s]"
      ]
     },
     "metadata": {},
     "output_type": "display_data"
    }
   ],
   "source": [
    "experiment.run_all()"
   ]
  },
  {
   "cell_type": "markdown",
   "metadata": {},
   "source": [
    "To obtain a table with results:"
   ]
  },
  {
   "cell_type": "code",
   "execution_count": 7,
   "metadata": {},
   "outputs": [
    {
     "data": {
      "text/html": [
       "<div>\n",
       "<style scoped>\n",
       "    .dataframe tbody tr th:only-of-type {\n",
       "        vertical-align: middle;\n",
       "    }\n",
       "\n",
       "    .dataframe tbody tr th {\n",
       "        vertical-align: top;\n",
       "    }\n",
       "\n",
       "    .dataframe thead th {\n",
       "        text-align: right;\n",
       "    }\n",
       "</style>\n",
       "<table border=\"1\" class=\"dataframe\">\n",
       "  <thead>\n",
       "    <tr style=\"text-align: right;\">\n",
       "      <th></th>\n",
       "      <th></th>\n",
       "      <th></th>\n",
       "      <th>_run_start</th>\n",
       "      <th>_elapsed_seconds</th>\n",
       "      <th>value</th>\n",
       "    </tr>\n",
       "    <tr>\n",
       "      <th>mean</th>\n",
       "      <th>sigma</th>\n",
       "      <th>seed</th>\n",
       "      <th></th>\n",
       "      <th></th>\n",
       "      <th></th>\n",
       "    </tr>\n",
       "  </thead>\n",
       "  <tbody>\n",
       "    <tr>\n",
       "      <th rowspan=\"5\" valign=\"top\">1</th>\n",
       "      <th rowspan=\"5\" valign=\"top\">1</th>\n",
       "      <th>0</th>\n",
       "      <td>2023-03-23 01:20:53.154519</td>\n",
       "      <td>0.000054</td>\n",
       "      <td>2.764052</td>\n",
       "    </tr>\n",
       "    <tr>\n",
       "      <th>1</th>\n",
       "      <td>2023-03-23 01:20:53.155430</td>\n",
       "      <td>0.000050</td>\n",
       "      <td>2.624345</td>\n",
       "    </tr>\n",
       "    <tr>\n",
       "      <th>2</th>\n",
       "      <td>2023-03-23 01:20:53.156125</td>\n",
       "      <td>0.000030</td>\n",
       "      <td>0.583242</td>\n",
       "    </tr>\n",
       "    <tr>\n",
       "      <th>3</th>\n",
       "      <td>2023-03-23 01:20:53.156363</td>\n",
       "      <td>0.000023</td>\n",
       "      <td>2.788628</td>\n",
       "    </tr>\n",
       "    <tr>\n",
       "      <th>4</th>\n",
       "      <td>2023-03-23 01:20:53.156568</td>\n",
       "      <td>0.000021</td>\n",
       "      <td>1.050562</td>\n",
       "    </tr>\n",
       "    <tr>\n",
       "      <th>...</th>\n",
       "      <th>...</th>\n",
       "      <th>...</th>\n",
       "      <td>...</td>\n",
       "      <td>...</td>\n",
       "      <td>...</td>\n",
       "    </tr>\n",
       "    <tr>\n",
       "      <th rowspan=\"5\" valign=\"top\">4</th>\n",
       "      <th rowspan=\"5\" valign=\"top\">3</th>\n",
       "      <th>15</th>\n",
       "      <td>2023-03-23 01:20:53.187919</td>\n",
       "      <td>0.000010</td>\n",
       "      <td>3.063015</td>\n",
       "    </tr>\n",
       "    <tr>\n",
       "      <th>16</th>\n",
       "      <td>2023-03-23 01:20:53.188014</td>\n",
       "      <td>0.000010</td>\n",
       "      <td>4.383846</td>\n",
       "    </tr>\n",
       "    <tr>\n",
       "      <th>17</th>\n",
       "      <td>2023-03-23 01:20:53.188111</td>\n",
       "      <td>0.000009</td>\n",
       "      <td>4.828798</td>\n",
       "    </tr>\n",
       "    <tr>\n",
       "      <th>18</th>\n",
       "      <td>2023-03-23 01:20:53.188217</td>\n",
       "      <td>0.000010</td>\n",
       "      <td>4.238285</td>\n",
       "    </tr>\n",
       "    <tr>\n",
       "      <th>19</th>\n",
       "      <td>2023-03-23 01:20:53.188313</td>\n",
       "      <td>0.000010</td>\n",
       "      <td>4.663010</td>\n",
       "    </tr>\n",
       "  </tbody>\n",
       "</table>\n",
       "<p>180 rows × 3 columns</p>\n",
       "</div>"
      ],
      "text/plain": [
       "                                 _run_start  _elapsed_seconds     value\n",
       "mean sigma seed                                                        \n",
       "1    1     0     2023-03-23 01:20:53.154519          0.000054  2.764052\n",
       "           1     2023-03-23 01:20:53.155430          0.000050  2.624345\n",
       "           2     2023-03-23 01:20:53.156125          0.000030  0.583242\n",
       "           3     2023-03-23 01:20:53.156363          0.000023  2.788628\n",
       "           4     2023-03-23 01:20:53.156568          0.000021  1.050562\n",
       "...                                     ...               ...       ...\n",
       "4    3     15    2023-03-23 01:20:53.187919          0.000010  3.063015\n",
       "           16    2023-03-23 01:20:53.188014          0.000010  4.383846\n",
       "           17    2023-03-23 01:20:53.188111          0.000009  4.828798\n",
       "           18    2023-03-23 01:20:53.188217          0.000010  4.238285\n",
       "           19    2023-03-23 01:20:53.188313          0.000010  4.663010\n",
       "\n",
       "[180 rows x 3 columns]"
      ]
     },
     "execution_count": 7,
     "metadata": {},
     "output_type": "execute_result"
    }
   ],
   "source": [
    "df=experiment.get_results_df()\n",
    "df"
   ]
  },
  {
   "cell_type": "markdown",
   "metadata": {},
   "source": [
    "## Plot and table generation"
   ]
  },
  {
   "cell_type": "markdown",
   "metadata": {},
   "source": [
    "Some examples for figure and table generation follow"
   ]
  },
  {
   "cell_type": "code",
   "execution_count": 8,
   "metadata": {},
   "outputs": [],
   "source": [
    "import matplotlib.pyplot as plt\n",
    "import seaborn as sns"
   ]
  },
  {
   "cell_type": "code",
   "execution_count": 9,
   "metadata": {},
   "outputs": [
    {
     "data": {
      "image/png": "[encoded data removed]",
      "text/plain": [
       "<Figure size 1000x618.047 with 1 Axes>"
      ]
     },
     "metadata": {},
     "output_type": "display_data"
    }
   ],
   "source": [
    "# Add an id field concatenating the two relevant levels of the index:\n",
    "df[\"id\"]=df.reset_index([\"mean\", \"sigma\"]).apply(lambda x: \"(%s, %s)\"%(x[\"mean\"],x[\"sigma\"]), axis=1).values\n",
    "\n",
    "plt.figure(figsize=(10, 10 / 1.618))\n",
    "sns.violinplot(\n",
    "    data=df,\n",
    "    x=\"id\",\n",
    "    y=\"value\",\n",
    ")\n",
    "# plt.ylim(0.8, 1.1)\n",
    "plt.show()"
   ]
  },
  {
   "cell_type": "code",
   "execution_count": 10,
   "metadata": {},
   "outputs": [
    {
     "data": {
      "text/html": [
       "<div>\n",
       "<style scoped>\n",
       "    .dataframe tbody tr th:only-of-type {\n",
       "        vertical-align: middle;\n",
       "    }\n",
       "\n",
       "    .dataframe tbody tr th {\n",
       "        vertical-align: top;\n",
       "    }\n",
       "\n",
       "    .dataframe thead th {\n",
       "        text-align: right;\n",
       "    }\n",
       "</style>\n",
       "<table border=\"1\" class=\"dataframe\">\n",
       "  <thead>\n",
       "    <tr style=\"text-align: right;\">\n",
       "      <th></th>\n",
       "      <th></th>\n",
       "      <th>_elapsed_seconds</th>\n",
       "      <th>value</th>\n",
       "    </tr>\n",
       "    <tr>\n",
       "      <th>mean</th>\n",
       "      <th>sigma</th>\n",
       "      <th></th>\n",
       "      <th></th>\n",
       "    </tr>\n",
       "  </thead>\n",
       "  <tbody>\n",
       "    <tr>\n",
       "      <th rowspan=\"3\" valign=\"top\">1</th>\n",
       "      <th>1</th>\n",
       "      <td>0.000023 ± 0.000002</td>\n",
       "      <td>1.58 ± 0.19</td>\n",
       "    </tr>\n",
       "    <tr>\n",
       "      <th>2</th>\n",
       "      <td>0.0000262 ± 0.0000014</td>\n",
       "      <td>2.2 ± 0.4</td>\n",
       "    </tr>\n",
       "    <tr>\n",
       "      <th>3</th>\n",
       "      <td>0.0000219 ± 0.0000009</td>\n",
       "      <td>2.7 ± 0.6</td>\n",
       "    </tr>\n",
       "    <tr>\n",
       "      <th rowspan=\"3\" valign=\"top\">2</th>\n",
       "      <th>1</th>\n",
       "      <td>0.000028 ± 0.000002</td>\n",
       "      <td>2.58 ± 0.19</td>\n",
       "    </tr>\n",
       "    <tr>\n",
       "      <th>2</th>\n",
       "      <td>0.0000243 ± 0.0000014</td>\n",
       "      <td>3.2 ± 0.4</td>\n",
       "    </tr>\n",
       "    <tr>\n",
       "      <th>3</th>\n",
       "      <td>0.000024 ± 0.000003</td>\n",
       "      <td>3.7 ± 0.6</td>\n",
       "    </tr>\n",
       "    <tr>\n",
       "      <th rowspan=\"3\" valign=\"top\">4</th>\n",
       "      <th>1</th>\n",
       "      <td>0.0000156 ± 0.0000005</td>\n",
       "      <td>4.58 ± 0.19</td>\n",
       "    </tr>\n",
       "    <tr>\n",
       "      <th>2</th>\n",
       "      <td>0.00000995 ± 0.00000009</td>\n",
       "      <td>5.2 ± 0.4</td>\n",
       "    </tr>\n",
       "    <tr>\n",
       "      <th>3</th>\n",
       "      <td>0.00000975 ± 0.00000010</td>\n",
       "      <td>5.7 ± 0.6</td>\n",
       "    </tr>\n",
       "  </tbody>\n",
       "</table>\n",
       "</div>"
      ],
      "text/plain": [
       "                   _elapsed_seconds        value\n",
       "mean sigma                                      \n",
       "1    1          0.000023 ± 0.000002  1.58 ± 0.19\n",
       "     2        0.0000262 ± 0.0000014    2.2 ± 0.4\n",
       "     3        0.0000219 ± 0.0000009    2.7 ± 0.6\n",
       "2    1          0.000028 ± 0.000002  2.58 ± 0.19\n",
       "     2        0.0000243 ± 0.0000014    3.2 ± 0.4\n",
       "     3          0.000024 ± 0.000003    3.7 ± 0.6\n",
       "4    1        0.0000156 ± 0.0000005  4.58 ± 0.19\n",
       "     2      0.00000995 ± 0.00000009    5.2 ± 0.4\n",
       "     3      0.00000975 ± 0.00000010    5.7 ± 0.6"
      ]
     },
     "execution_count": 10,
     "metadata": {},
     "output_type": "execute_result"
    }
   ],
   "source": [
    "# Produce a table summarizing the mean values with its error\n",
    "silico.df_agg_mean(df.drop([\"_run_start\", \"id\"], axis=1), [\"mean\", \"sigma\"])"
   ]
  },
  {
   "cell_type": "markdown",
   "metadata": {},
   "source": [
    "## Modifying task iteration order"
   ]
  },
  {
   "cell_type": "markdown",
   "metadata": {},
   "source": [
    "**Evaluation order is only important if you interfere with the run before it finishes** (e.g, looking at intermediate results) **or if you want to explore only a subset of the parameter space**.\n",
    "\n",
    "The default strategy follows an ordered array from inner to outer coordinates. The experiment definition could be manipulated to alter this, modifying the variable order or the values list."
   ]
  },
  {
   "cell_type": "code",
   "execution_count": 11,
   "metadata": {},
   "outputs": [
    {
     "data": {
      "text/plain": [
       "MultiIndex([(1, 1,  0),\n",
       "            (1, 1,  1),\n",
       "            (1, 1,  2),\n",
       "            (1, 1,  3),\n",
       "            (1, 1,  4),\n",
       "            (1, 1,  5),\n",
       "            (1, 1,  6),\n",
       "            (1, 1,  7),\n",
       "            (1, 1,  8),\n",
       "            (1, 1,  9),\n",
       "            ...\n",
       "            (4, 3, 10),\n",
       "            (4, 3, 11),\n",
       "            (4, 3, 12),\n",
       "            (4, 3, 13),\n",
       "            (4, 3, 14),\n",
       "            (4, 3, 15),\n",
       "            (4, 3, 16),\n",
       "            (4, 3, 17),\n",
       "            (4, 3, 18),\n",
       "            (4, 3, 19)],\n",
       "           names=['mean', 'sigma', 'seed'], length=180)"
      ]
     },
     "execution_count": 11,
     "metadata": {},
     "output_type": "execute_result"
    }
   ],
   "source": [
    "# Check the chronological execution order in the previous example\n",
    "df.sort_values(\"_run_start\").index"
   ]
  },
  {
   "cell_type": "markdown",
   "metadata": {},
   "source": [
    "An alternative strategy can be used to explore the same grid in a different order by first picking the corners and the choosing always a point furthest away from already picked ones. This is called the *urinal* strategy, since this implements [a protocol known by most men](https://blog.xkcd.com/2009/09/02/urinal-protocol-vulnerability/)."
   ]
  },
  {
   "cell_type": "code",
   "execution_count": 12,
   "metadata": {},
   "outputs": [],
   "source": [
    "experiment_urinal = silico.Experiment(\n",
    "    [\n",
    "        (\"mean\", [1, 2, 4]),\n",
    "        (\"sigma\", [1, 2, 3]),\n",
    "        (\"seed\", list(range(20))),\n",
    "    ],\n",
    "    experiment_f,  # Function\n",
    "    \"experiment-demo-urinal\",  # Folder where the results are stored\n",
    "    strategy=\"urinal\"\n",
    ")"
   ]
  },
  {
   "cell_type": "code",
   "execution_count": 13,
   "metadata": {},
   "outputs": [
    {
     "data": {
      "application/json": {
       "ascii": false,
       "bar_format": null,
       "colour": null,
       "elapsed": 0.019145965576171875,
       "initial": 0,
       "n": 0,
       "ncols": null,
       "nrows": 67,
       "postfix": null,
       "prefix": "",
       "rate": null,
       "total": 180,
       "unit": "it",
       "unit_divisor": 1000,
       "unit_scale": false
      },
      "application/vnd.jupyter.widget-view+json": {
       "model_id": "b689ce3616244b52804e427e2ab26cfc",
       "version_major": 2,
       "version_minor": 0
      },
      "text/plain": [
       "  0%|          | 0/180 [00:00<?, ?it/s]"
      ]
     },
     "metadata": {},
     "output_type": "display_data"
    }
   ],
   "source": [
    "experiment_urinal.invalidate()\n",
    "experiment_urinal.run_all()"
   ]
  },
  {
   "cell_type": "code",
   "execution_count": 14,
   "metadata": {},
   "outputs": [
    {
     "data": {
      "text/plain": [
       "MultiIndex([(1, 1,  0),\n",
       "            (1, 1, 19),\n",
       "            (1, 3,  0),\n",
       "            (1, 3, 19),\n",
       "            (4, 1,  0),\n",
       "            (4, 1, 19),\n",
       "            (4, 3,  0),\n",
       "            (4, 3, 19),\n",
       "            (2, 2,  9),\n",
       "            (1, 1, 13),\n",
       "            ...\n",
       "            (4, 3,  5),\n",
       "            (4, 3,  7),\n",
       "            (4, 3,  8),\n",
       "            (4, 3, 10),\n",
       "            (4, 3, 11),\n",
       "            (4, 3, 13),\n",
       "            (4, 3, 14),\n",
       "            (4, 3, 16),\n",
       "            (4, 3, 17),\n",
       "            (4, 3, 18)],\n",
       "           names=['mean', 'sigma', 'seed'], length=180)"
      ]
     },
     "execution_count": 14,
     "metadata": {},
     "output_type": "execute_result"
    }
   ],
   "source": [
    "# Now corners are first explored\n",
    "experiment_urinal.get_results_df().sort_values(\"_run_start\").index"
   ]
  },
  {
   "cell_type": "markdown",
   "metadata": {},
   "source": [
    "Finally, if you are interested on fixing a point and studying variations of only one variable, you might be interested in the *star* strategy, which first studies a special mid_point argument (default to the median for numerical data) and then explores each of the 1d subspaces."
   ]
  },
  {
   "cell_type": "code",
   "execution_count": 15,
   "metadata": {},
   "outputs": [],
   "source": [
    "experiment_star = silico.Experiment(\n",
    "    [\n",
    "        (\"mean\", [1, 2, 4]),\n",
    "        (\"sigma\", [1, 2, 3]),\n",
    "        (\"seed\", list(range(20))),\n",
    "    ],\n",
    "    experiment_f,\n",
    "    \"experiment-demo-star\", \n",
    "    strategy=\"star\",\n",
    "    mid_point={\"mean\":2,\"sigma\":2,\"seed\":10} # Default to the median for numerical data\n",
    ")"
   ]
  },
  {
   "cell_type": "code",
   "execution_count": 16,
   "metadata": {},
   "outputs": [
    {
     "data": {
      "application/json": {
       "ascii": false,
       "bar_format": null,
       "colour": null,
       "elapsed": 0.0184326171875,
       "initial": 0,
       "n": 0,
       "ncols": null,
       "nrows": 67,
       "postfix": null,
       "prefix": "",
       "rate": null,
       "total": 24,
       "unit": "it",
       "unit_divisor": 1000,
       "unit_scale": false
      },
      "application/vnd.jupyter.widget-view+json": {
       "model_id": "441d0976acab44da980609f38603c9a8",
       "version_major": 2,
       "version_minor": 0
      },
      "text/plain": [
       "  0%|          | 0/24 [00:00<?, ?it/s]"
      ]
     },
     "metadata": {},
     "output_type": "display_data"
    }
   ],
   "source": [
    "experiment_star.invalidate()\n",
    "experiment_star.run_all()"
   ]
  },
  {
   "cell_type": "code",
   "execution_count": 17,
   "metadata": {},
   "outputs": [
    {
     "data": {
      "text/plain": [
       "MultiIndex([(2, 2, 10),\n",
       "            (1, 2, 10),\n",
       "            (4, 2, 10),\n",
       "            (2, 1, 10),\n",
       "            (2, 3, 10),\n",
       "            (2, 2,  0),\n",
       "            (2, 2,  1),\n",
       "            (2, 2,  2),\n",
       "            (2, 2,  3),\n",
       "            (2, 2,  4),\n",
       "            (2, 2,  5),\n",
       "            (2, 2,  6),\n",
       "            (2, 2,  7),\n",
       "            (2, 2,  8),\n",
       "            (2, 2,  9),\n",
       "            (2, 2, 11),\n",
       "            (2, 2, 12),\n",
       "            (2, 2, 13),\n",
       "            (2, 2, 14),\n",
       "            (2, 2, 15),\n",
       "            (2, 2, 16),\n",
       "            (2, 2, 17),\n",
       "            (2, 2, 18),\n",
       "            (2, 2, 19)],\n",
       "           names=['mean', 'sigma', 'seed'])"
      ]
     },
     "execution_count": 17,
     "metadata": {},
     "output_type": "execute_result"
    }
   ],
   "source": [
    "# Very few points (~sum of dims instead of product of dims)\n",
    "experiment_star.get_results_df().sort_values(\"_run_start\").index"
   ]
  },
  {
   "cell_type": "markdown",
   "metadata": {},
   "source": [
    "You can also run sequentially multiple Experiment instances with the same function in the same folder to achieve other strategies.\n",
    "\n",
    "A SubExperiment class is also available to restrict some of the parameters."
   ]
  },
  {
   "cell_type": "code",
   "execution_count": 18,
   "metadata": {},
   "outputs": [
    {
     "data": {
      "text/plain": [
       "[{'sigma': 1}, {'sigma': 2}, {'sigma': 3}]"
      ]
     },
     "execution_count": 18,
     "metadata": {},
     "output_type": "execute_result"
    }
   ],
   "source": [
    "list(silico.SubExperiment(experiment, {\"mean\":3, \"seed\":5}).iter_values())"
   ]
  },
  {
   "cell_type": "markdown",
   "metadata": {},
   "source": [
    "## Loading from a module and execution modes"
   ]
  },
  {
   "cell_type": "markdown",
   "metadata": {},
   "source": [
    "The best practice is to define the experiment in a module"
   ]
  },
  {
   "cell_type": "code",
   "execution_count": 19,
   "metadata": {},
   "outputs": [],
   "source": [
    "import demo"
   ]
  },
  {
   "cell_type": "markdown",
   "metadata": {},
   "source": [
    "In this example we include a delay in the function to understand the execution modes"
   ]
  },
  {
   "cell_type": "code",
   "execution_count": 20,
   "metadata": {},
   "outputs": [
    {
     "name": "stdout",
     "output_type": "stream",
     "text": [
      "def experiment_f(mean, sigma, seed):\n",
      "    # All seeds should be initialized using a parameter for reproducibility\n",
      "    random.seed(seed)\n",
      "    # Delay for test purpose\n",
      "    sleep(mean/100)\n",
      "    # Return a dict with the results (must be pickleable)\n",
      "    return {\"value\": random.normal(mean, sigma)}\n",
      "\n"
     ]
    }
   ],
   "source": [
    "# Check for demo purpose\n",
    "import inspect\n",
    "print(inspect.getsource(demo.experiment.f))"
   ]
  },
  {
   "cell_type": "markdown",
   "metadata": {},
   "source": [
    "### Sequential execution"
   ]
  },
  {
   "cell_type": "markdown",
   "metadata": {},
   "source": [
    "The default mode is sequential execution (all trials are executed one by one).\n",
    "\n",
    "Advantages:\n",
    "\n",
    "- All memory/cpu resources available \n",
    "- Execution time is not affected by other processes\n",
    "\n",
    "Disadvantages:\n",
    "\n",
    "- Longest execution time"
   ]
  },
  {
   "cell_type": "code",
   "execution_count": 21,
   "metadata": {},
   "outputs": [],
   "source": [
    "demo.experiment.invalidate()"
   ]
  },
  {
   "cell_type": "code",
   "execution_count": 22,
   "metadata": {},
   "outputs": [
    {
     "data": {
      "application/json": {
       "ascii": false,
       "bar_format": null,
       "colour": null,
       "elapsed": 0.016440868377685547,
       "initial": 0,
       "n": 0,
       "ncols": null,
       "nrows": 67,
       "postfix": null,
       "prefix": "",
       "rate": null,
       "total": 180,
       "unit": "it",
       "unit_divisor": 1000,
       "unit_scale": false
      },
      "application/vnd.jupyter.widget-view+json": {
       "model_id": "89582e11cc984b84bd170093b33d497c",
       "version_major": 2,
       "version_minor": 0
      },
      "text/plain": [
       "  0%|          | 0/180 [00:00<?, ?it/s]"
      ]
     },
     "metadata": {},
     "output_type": "display_data"
    },
    {
     "name": "stdout",
     "output_type": "stream",
     "text": [
      "CPU times: user 210 ms, sys: 30.6 ms, total: 240 ms\n",
      "Wall time: 4.42 s\n"
     ]
    }
   ],
   "source": [
    "%%time\n",
    "demo.experiment.run_all()"
   ]
  },
  {
   "cell_type": "code",
   "execution_count": 23,
   "metadata": {},
   "outputs": [
    {
     "data": {
      "text/plain": [
       "4.246137000000002"
      ]
     },
     "execution_count": 23,
     "metadata": {},
     "output_type": "execute_result"
    }
   ],
   "source": [
    "sum(demo.experiment.get_results_df()[\"_elapsed_seconds\"])"
   ]
  },
  {
   "cell_type": "markdown",
   "metadata": {},
   "source": [
    "### Multithreading execution "
   ]
  },
  {
   "cell_type": "markdown",
   "metadata": {},
   "source": [
    "In multithreading execution a pool of threads run the trials.\n",
    "\n",
    "Advantages:\n",
    "\n",
    "- If n threads are used and the trial uses only one thread, you can expect a factor of n speed-up, assumming your resources are not exhausted.\n",
    "- Does not require additional libraries.\n",
    "\n",
    "Disadvantages:\n",
    "\n",
    "- Memory consumption increases\n",
    "- Concurrent execution might affect computation time\n",
    "- Only one machine can be used still."
   ]
  },
  {
   "cell_type": "code",
   "execution_count": 24,
   "metadata": {},
   "outputs": [],
   "source": [
    "demo.experiment.invalidate()"
   ]
  },
  {
   "cell_type": "markdown",
   "metadata": {},
   "source": [
    "In this example we use 4 threads for a ~4x speed-up:"
   ]
  },
  {
   "cell_type": "code",
   "execution_count": 25,
   "metadata": {},
   "outputs": [
    {
     "data": {
      "application/json": {
       "ascii": false,
       "bar_format": null,
       "colour": null,
       "elapsed": 0.014861822128295898,
       "initial": 0,
       "n": 0,
       "ncols": null,
       "nrows": 67,
       "postfix": null,
       "prefix": "",
       "rate": null,
       "total": 180,
       "unit": "it",
       "unit_divisor": 1000,
       "unit_scale": false
      },
      "application/vnd.jupyter.widget-view+json": {
       "model_id": "e987fca30e9d4c708b08def9bd385262",
       "version_major": 2,
       "version_minor": 0
      },
      "text/plain": [
       "  0%|          | 0/180 [00:00<?, ?it/s]"
      ]
     },
     "metadata": {},
     "output_type": "display_data"
    },
    {
     "name": "stdout",
     "output_type": "stream",
     "text": [
      "CPU times: user 73.2 ms, sys: 60.1 ms, total: 133 ms\n",
      "Wall time: 1.17 s\n"
     ]
    }
   ],
   "source": [
    "%%time\n",
    "demo.experiment.run_all(method=\"multithreading\", threads=4)"
   ]
  },
  {
   "cell_type": "markdown",
   "metadata": {},
   "source": [
    "However, elapsed time is independent for each trial, so the total is approximately the same"
   ]
  },
  {
   "cell_type": "code",
   "execution_count": 26,
   "metadata": {},
   "outputs": [
    {
     "data": {
      "text/plain": [
       "4.24141"
      ]
     },
     "execution_count": 26,
     "metadata": {},
     "output_type": "execute_result"
    }
   ],
   "source": [
    "sum(demo.experiment.get_results_df()[\"_elapsed_seconds\"])"
   ]
  },
  {
   "cell_type": "code",
   "execution_count": null,
   "metadata": {},
   "outputs": [],
   "source": []
  }
 ],
 "metadata": {
  "kernelspec": {
   "display_name": "Python 3 (ipykernel)",
   "language": "python",
   "name": "python3"
  },
  "language_info": {
   "codemirror_mode": {
    "name": "ipython",
    "version": 3
   },
   "file_extension": ".py",
   "mimetype": "text/x-python",
   "name": "python",
   "nbconvert_exporter": "python",
   "pygments_lexer": "ipython3",
   "version": "3.10.10"
  }
 },
 "nbformat": 4,
 "nbformat_minor": 4
}
