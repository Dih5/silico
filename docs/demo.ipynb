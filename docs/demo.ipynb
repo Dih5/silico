{
 "cells": [
  {
   "cell_type": "markdown",
   "metadata": {},
   "source": [
    "# Insilico general demo"
   ]
  },
  {
   "cell_type": "markdown",
   "metadata": {},
   "source": [
    "## Introduction"
   ]
  },
  {
   "cell_type": "code",
   "execution_count": 1,
   "metadata": {},
   "outputs": [],
   "source": [
    "import pandas as pd\n",
    "import numpy as np\n",
    "from numpy import random"
   ]
  },
  {
   "cell_type": "code",
   "execution_count": 2,
   "metadata": {},
   "outputs": [],
   "source": [
    "from insilico import *"
   ]
  },
  {
   "cell_type": "markdown",
   "metadata": {},
   "source": [
    "Define a function that takes some parameters and returns a dict of information about the results:"
   ]
  },
  {
   "cell_type": "code",
   "execution_count": 3,
   "metadata": {},
   "outputs": [],
   "source": [
    "def experiment_f(mean, sigma, seed):\n",
    "    # All seeds should be initialized using a parameter for reproducibility\n",
    "    random.seed(seed)\n",
    "    # Return a dict with the results (must be pickleable)\n",
    "    return {\"value\": random.normal(mean, sigma)}"
   ]
  },
  {
   "cell_type": "markdown",
   "metadata": {},
   "source": [
    "Define the values for each of the parameters:"
   ]
  },
  {
   "cell_type": "code",
   "execution_count": 4,
   "metadata": {},
   "outputs": [],
   "source": [
    "experiment = Experiment(\n",
    "    [\n",
    "        (\"mean\", [1, 2, 4]),\n",
    "        (\"sigma\", [1, 2, 3]),\n",
    "        (\"seed\", list(range(20))),\n",
    "    ],\n",
    "    experiment_f,  # Function\n",
    "    \"experiment-demo\",  # Folder where the results are stored\n",
    ")"
   ]
  },
  {
   "cell_type": "code",
   "execution_count": 5,
   "metadata": {},
   "outputs": [],
   "source": [
    "# If the definition of the experiment has changed, previous results can be deleted by running:\n",
    "experiment.invalidate()"
   ]
  },
  {
   "cell_type": "code",
   "execution_count": 6,
   "metadata": {},
   "outputs": [
    {
     "data": {
      "application/vnd.jupyter.widget-view+json": {
       "model_id": "eeb4a90a0ce84f09866d122546341740",
       "version_major": 2,
       "version_minor": 0
      },
      "text/plain": [
       "  0%|          | 0/180 [00:00<?, ?it/s]"
      ]
     },
     "metadata": {},
     "output_type": "display_data"
    }
   ],
   "source": [
    "experiment.run_all()"
   ]
  },
  {
   "cell_type": "markdown",
   "metadata": {},
   "source": [
    "To obtain a table with results:"
   ]
  },
  {
   "cell_type": "code",
   "execution_count": 7,
   "metadata": {},
   "outputs": [
    {
     "data": {
      "text/html": [
       "<div>\n",
       "<style scoped>\n",
       "    .dataframe tbody tr th:only-of-type {\n",
       "        vertical-align: middle;\n",
       "    }\n",
       "\n",
       "    .dataframe tbody tr th {\n",
       "        vertical-align: top;\n",
       "    }\n",
       "\n",
       "    .dataframe thead th {\n",
       "        text-align: right;\n",
       "    }\n",
       "</style>\n",
       "<table border=\"1\" class=\"dataframe\">\n",
       "  <thead>\n",
       "    <tr style=\"text-align: right;\">\n",
       "      <th></th>\n",
       "      <th></th>\n",
       "      <th></th>\n",
       "      <th>_run_start</th>\n",
       "      <th>_elapsed_seconds</th>\n",
       "      <th>value</th>\n",
       "    </tr>\n",
       "    <tr>\n",
       "      <th>mean</th>\n",
       "      <th>sigma</th>\n",
       "      <th>seed</th>\n",
       "      <th></th>\n",
       "      <th></th>\n",
       "      <th></th>\n",
       "    </tr>\n",
       "  </thead>\n",
       "  <tbody>\n",
       "    <tr>\n",
       "      <th rowspan=\"5\" valign=\"top\">1</th>\n",
       "      <th rowspan=\"5\" valign=\"top\">1</th>\n",
       "      <th>0</th>\n",
       "      <td>2022-02-22 17:29:05.689179</td>\n",
       "      <td>0.000067</td>\n",
       "      <td>2.764052</td>\n",
       "    </tr>\n",
       "    <tr>\n",
       "      <th>1</th>\n",
       "      <td>2022-02-22 17:29:05.689861</td>\n",
       "      <td>0.000046</td>\n",
       "      <td>2.624345</td>\n",
       "    </tr>\n",
       "    <tr>\n",
       "      <th>2</th>\n",
       "      <td>2022-02-22 17:29:05.690138</td>\n",
       "      <td>0.000032</td>\n",
       "      <td>0.583242</td>\n",
       "    </tr>\n",
       "    <tr>\n",
       "      <th>3</th>\n",
       "      <td>2022-02-22 17:29:05.690334</td>\n",
       "      <td>0.000028</td>\n",
       "      <td>2.788628</td>\n",
       "    </tr>\n",
       "    <tr>\n",
       "      <th>4</th>\n",
       "      <td>2022-02-22 17:29:05.690519</td>\n",
       "      <td>0.000028</td>\n",
       "      <td>1.050562</td>\n",
       "    </tr>\n",
       "    <tr>\n",
       "      <th>...</th>\n",
       "      <th>...</th>\n",
       "      <th>...</th>\n",
       "      <td>...</td>\n",
       "      <td>...</td>\n",
       "      <td>...</td>\n",
       "    </tr>\n",
       "    <tr>\n",
       "      <th rowspan=\"5\" valign=\"top\">4</th>\n",
       "      <th rowspan=\"5\" valign=\"top\">3</th>\n",
       "      <th>15</th>\n",
       "      <td>2022-02-22 17:29:05.712595</td>\n",
       "      <td>0.000018</td>\n",
       "      <td>3.063015</td>\n",
       "    </tr>\n",
       "    <tr>\n",
       "      <th>16</th>\n",
       "      <td>2022-02-22 17:29:05.712750</td>\n",
       "      <td>0.000018</td>\n",
       "      <td>4.383846</td>\n",
       "    </tr>\n",
       "    <tr>\n",
       "      <th>17</th>\n",
       "      <td>2022-02-22 17:29:05.712860</td>\n",
       "      <td>0.000014</td>\n",
       "      <td>4.828798</td>\n",
       "    </tr>\n",
       "    <tr>\n",
       "      <th>18</th>\n",
       "      <td>2022-02-22 17:29:05.712957</td>\n",
       "      <td>0.000013</td>\n",
       "      <td>4.238285</td>\n",
       "    </tr>\n",
       "    <tr>\n",
       "      <th>19</th>\n",
       "      <td>2022-02-22 17:29:05.713060</td>\n",
       "      <td>0.000013</td>\n",
       "      <td>4.663010</td>\n",
       "    </tr>\n",
       "  </tbody>\n",
       "</table>\n",
       "<p>180 rows × 3 columns</p>\n",
       "</div>"
      ],
      "text/plain": [
       "                                 _run_start  _elapsed_seconds     value\n",
       "mean sigma seed                                                        \n",
       "1    1     0     2022-02-22 17:29:05.689179          0.000067  2.764052\n",
       "           1     2022-02-22 17:29:05.689861          0.000046  2.624345\n",
       "           2     2022-02-22 17:29:05.690138          0.000032  0.583242\n",
       "           3     2022-02-22 17:29:05.690334          0.000028  2.788628\n",
       "           4     2022-02-22 17:29:05.690519          0.000028  1.050562\n",
       "...                                     ...               ...       ...\n",
       "4    3     15    2022-02-22 17:29:05.712595          0.000018  3.063015\n",
       "           16    2022-02-22 17:29:05.712750          0.000018  4.383846\n",
       "           17    2022-02-22 17:29:05.712860          0.000014  4.828798\n",
       "           18    2022-02-22 17:29:05.712957          0.000013  4.238285\n",
       "           19    2022-02-22 17:29:05.713060          0.000013  4.663010\n",
       "\n",
       "[180 rows x 3 columns]"
      ]
     },
     "execution_count": 7,
     "metadata": {},
     "output_type": "execute_result"
    }
   ],
   "source": [
    "df=experiment.get_results_df()\n",
    "df"
   ]
  },
  {
   "cell_type": "markdown",
   "metadata": {},
   "source": [
    "## Plot and table generation"
   ]
  },
  {
   "cell_type": "markdown",
   "metadata": {},
   "source": [
    "Some examples for figure and table generation follow"
   ]
  },
  {
   "cell_type": "code",
   "execution_count": 8,
   "metadata": {},
   "outputs": [],
   "source": [
    "import matplotlib.pyplot as plt\n",
    "import seaborn as sns"
   ]
  },
  {
   "cell_type": "code",
   "execution_count": 9,
   "metadata": {},
   "outputs": [
    {
     "data": {
      "image/png": "[encoded data removed]",
      "text/plain": [
       "<Figure size 720x444.994 with 1 Axes>"
      ]
     },
     "metadata": {
      "needs_background": "light"
     },
     "output_type": "display_data"
    }
   ],
   "source": [
    "# Add an id field concatenating the two relevant levels of the index:\n",
    "df[\"id\"]=df.reset_index([\"mean\", \"sigma\"]).apply(lambda x: \"(%s, %s)\"%(x[\"mean\"],x[\"sigma\"]), axis=1).values\n",
    "\n",
    "plt.figure(figsize=(10, 10 / 1.618))\n",
    "sns.violinplot(\n",
    "    data=df,\n",
    "    x=\"id\",\n",
    "    y=\"value\",\n",
    ")\n",
    "# plt.ylim(0.8, 1.1)\n",
    "plt.show()"
   ]
  },
  {
   "cell_type": "code",
   "execution_count": 10,
   "metadata": {},
   "outputs": [
    {
     "data": {
      "text/html": [
       "<div>\n",
       "<style scoped>\n",
       "    .dataframe tbody tr th:only-of-type {\n",
       "        vertical-align: middle;\n",
       "    }\n",
       "\n",
       "    .dataframe tbody tr th {\n",
       "        vertical-align: top;\n",
       "    }\n",
       "\n",
       "    .dataframe thead th {\n",
       "        text-align: right;\n",
       "    }\n",
       "</style>\n",
       "<table border=\"1\" class=\"dataframe\">\n",
       "  <thead>\n",
       "    <tr style=\"text-align: right;\">\n",
       "      <th></th>\n",
       "      <th></th>\n",
       "      <th>_elapsed_seconds</th>\n",
       "      <th>value</th>\n",
       "    </tr>\n",
       "    <tr>\n",
       "      <th>mean</th>\n",
       "      <th>sigma</th>\n",
       "      <th></th>\n",
       "      <th></th>\n",
       "    </tr>\n",
       "  </thead>\n",
       "  <tbody>\n",
       "    <tr>\n",
       "      <th rowspan=\"3\" valign=\"top\">1</th>\n",
       "      <th>1</th>\n",
       "      <td>0.000027 ± 0.000002</td>\n",
       "      <td>1.58 ± 0.19</td>\n",
       "    </tr>\n",
       "    <tr>\n",
       "      <th>2</th>\n",
       "      <td>0.0000218 ± 0.0000002</td>\n",
       "      <td>2.2 ± 0.4</td>\n",
       "    </tr>\n",
       "    <tr>\n",
       "      <th>3</th>\n",
       "      <td>0.0000232 ± 0.0000010</td>\n",
       "      <td>2.7 ± 0.6</td>\n",
       "    </tr>\n",
       "    <tr>\n",
       "      <th rowspan=\"3\" valign=\"top\">2</th>\n",
       "      <th>1</th>\n",
       "      <td>0.00002190 ± 0.00000014</td>\n",
       "      <td>2.58 ± 0.19</td>\n",
       "    </tr>\n",
       "    <tr>\n",
       "      <th>2</th>\n",
       "      <td>0.0000201 ± 0.0000011</td>\n",
       "      <td>3.2 ± 0.4</td>\n",
       "    </tr>\n",
       "    <tr>\n",
       "      <th>3</th>\n",
       "      <td>0.00001280 ± 0.00000009</td>\n",
       "      <td>3.7 ± 0.6</td>\n",
       "    </tr>\n",
       "    <tr>\n",
       "      <th rowspan=\"3\" valign=\"top\">4</th>\n",
       "      <th>1</th>\n",
       "      <td>0.00001280 ± 0.00000009</td>\n",
       "      <td>4.58 ± 0.19</td>\n",
       "    </tr>\n",
       "    <tr>\n",
       "      <th>2</th>\n",
       "      <td>0.00001260 ± 0.00000011</td>\n",
       "      <td>5.2 ± 0.4</td>\n",
       "    </tr>\n",
       "    <tr>\n",
       "      <th>3</th>\n",
       "      <td>0.0000135 ± 0.0000004</td>\n",
       "      <td>5.7 ± 0.6</td>\n",
       "    </tr>\n",
       "  </tbody>\n",
       "</table>\n",
       "</div>"
      ],
      "text/plain": [
       "                   _elapsed_seconds        value\n",
       "mean sigma                                      \n",
       "1    1          0.000027 ± 0.000002  1.58 ± 0.19\n",
       "     2        0.0000218 ± 0.0000002    2.2 ± 0.4\n",
       "     3        0.0000232 ± 0.0000010    2.7 ± 0.6\n",
       "2    1      0.00002190 ± 0.00000014  2.58 ± 0.19\n",
       "     2        0.0000201 ± 0.0000011    3.2 ± 0.4\n",
       "     3      0.00001280 ± 0.00000009    3.7 ± 0.6\n",
       "4    1      0.00001280 ± 0.00000009  4.58 ± 0.19\n",
       "     2      0.00001260 ± 0.00000011    5.2 ± 0.4\n",
       "     3        0.0000135 ± 0.0000004    5.7 ± 0.6"
      ]
     },
     "execution_count": 10,
     "metadata": {},
     "output_type": "execute_result"
    }
   ],
   "source": [
    "# Produce a table summarizing the mean values with its error\n",
    "df_agg_mean(df.drop([\"_run_start\", \"id\"], axis=1), [\"mean\", \"sigma\"])"
   ]
  },
  {
   "cell_type": "markdown",
   "metadata": {},
   "source": [
    "## Loading from a module and execution modes"
   ]
  },
  {
   "cell_type": "markdown",
   "metadata": {},
   "source": [
    "The best practice is to define the experiment in a module"
   ]
  },
  {
   "cell_type": "code",
   "execution_count": 11,
   "metadata": {},
   "outputs": [],
   "source": [
    "import demo"
   ]
  },
  {
   "cell_type": "markdown",
   "metadata": {},
   "source": [
    "In this example we include a delay in the function to understand the execution modes"
   ]
  },
  {
   "cell_type": "code",
   "execution_count": 12,
   "metadata": {},
   "outputs": [
    {
     "name": "stdout",
     "output_type": "stream",
     "text": [
      "def experiment_f(mean, sigma, seed):\n",
      "    # All seeds should be initialized using a parameter for reproducibility\n",
      "    random.seed(seed)\n",
      "    # Delay for test purpose\n",
      "    sleep(mean/100)\n",
      "    # Return a dict with the results (must be pickleable)\n",
      "    return {\"value\": random.normal(mean, sigma)}\n",
      "\n"
     ]
    }
   ],
   "source": [
    "import inspect\n",
    "print(inspect.getsource(demo.experiment.f))"
   ]
  },
  {
   "cell_type": "markdown",
   "metadata": {},
   "source": [
    "### Sequential execution"
   ]
  },
  {
   "cell_type": "markdown",
   "metadata": {},
   "source": [
    "The default mode is sequential execution (all trials are executed one by one).\n",
    "\n",
    "Advantages:\n",
    "- All memory/cpu resources available \n",
    "- Execution time is not affected by other processes\n",
    "\n",
    "Disadvantages:\n",
    "- Longest execution time"
   ]
  },
  {
   "cell_type": "code",
   "execution_count": 13,
   "metadata": {},
   "outputs": [],
   "source": [
    "demo.experiment.invalidate()"
   ]
  },
  {
   "cell_type": "code",
   "execution_count": 14,
   "metadata": {},
   "outputs": [
    {
     "data": {
      "application/vnd.jupyter.widget-view+json": {
       "model_id": "e053aaa5499f4b989cfa529959f6cdf5",
       "version_major": 2,
       "version_minor": 0
      },
      "text/plain": [
       "  0%|          | 0/180 [00:00<?, ?it/s]"
      ]
     },
     "metadata": {},
     "output_type": "display_data"
    },
    {
     "name": "stdout",
     "output_type": "stream",
     "text": [
      "CPU times: user 207 ms, sys: 43.9 ms, total: 251 ms\n",
      "Wall time: 4.45 s\n"
     ]
    }
   ],
   "source": [
    "%%time\n",
    "demo.experiment.run_all()"
   ]
  },
  {
   "cell_type": "code",
   "execution_count": 15,
   "metadata": {},
   "outputs": [
    {
     "data": {
      "text/plain": [
       "4.251450999999999"
      ]
     },
     "execution_count": 15,
     "metadata": {},
     "output_type": "execute_result"
    }
   ],
   "source": [
    "sum(demo.experiment.get_results_df()[\"_elapsed_seconds\"])"
   ]
  },
  {
   "cell_type": "markdown",
   "metadata": {},
   "source": [
    "### Multithreading execution "
   ]
  },
  {
   "cell_type": "markdown",
   "metadata": {},
   "source": [
    "In multithreading execution a pool of threads run the trials.\n",
    "\n",
    "Advantages:\n",
    "- If n threads are used and the trial uses only one thread, you can expect a factor of n speed-up, assumming your resources are not exhausted.\n",
    "- Does not require additional libraries.\n",
    "\n",
    "Disadvantages:\n",
    "- Memory consumption increases\n",
    "- Concurrent execution might affect computation time\n",
    "- Only one machine can be used still."
   ]
  },
  {
   "cell_type": "code",
   "execution_count": 16,
   "metadata": {},
   "outputs": [],
   "source": [
    "demo.experiment.invalidate()"
   ]
  },
  {
   "cell_type": "markdown",
   "metadata": {},
   "source": [
    "In this example we use 4 threads for a ~4x speed-up:"
   ]
  },
  {
   "cell_type": "code",
   "execution_count": 17,
   "metadata": {},
   "outputs": [
    {
     "data": {
      "application/vnd.jupyter.widget-view+json": {
       "model_id": "9cad32c52a0e4825a7de67b3dceff044",
       "version_major": 2,
       "version_minor": 0
      },
      "text/plain": [
       "  0%|          | 0/180 [00:00<?, ?it/s]"
      ]
     },
     "metadata": {},
     "output_type": "display_data"
    },
    {
     "name": "stdout",
     "output_type": "stream",
     "text": [
      "CPU times: user 129 ms, sys: 46.1 ms, total: 175 ms\n",
      "Wall time: 1.16 s\n"
     ]
    }
   ],
   "source": [
    "%%time\n",
    "demo.experiment.run_all(method=\"multithreading\", threads=4)"
   ]
  },
  {
   "cell_type": "markdown",
   "metadata": {},
   "source": [
    "However, elapsed time is independent for each trial, so the total is approximately the same"
   ]
  },
  {
   "cell_type": "code",
   "execution_count": 18,
   "metadata": {},
   "outputs": [
    {
     "data": {
      "text/plain": [
       "4.239245999999998"
      ]
     },
     "execution_count": 18,
     "metadata": {},
     "output_type": "execute_result"
    }
   ],
   "source": [
    "sum(demo.experiment.get_results_df()[\"_elapsed_seconds\"])"
   ]
  },
  {
   "cell_type": "code",
   "execution_count": null,
   "metadata": {},
   "outputs": [],
   "source": []
  }
 ],
 "metadata": {
  "kernelspec": {
   "display_name": "Python 3 (ipykernel)",
   "language": "python",
   "name": "python3"
  },
  "language_info": {
   "codemirror_mode": {
    "name": "ipython",
    "version": 3
   },
   "file_extension": ".py",
   "mimetype": "text/x-python",
   "name": "python",
   "nbconvert_exporter": "python",
   "pygments_lexer": "ipython3",
   "version": "3.10.2"
  }
 },
 "nbformat": 4,
 "nbformat_minor": 4
}
